{
 "cells": [
  {
   "cell_type": "markdown",
   "id": "e0a7752a-2266-4b60-8915-c7cdfe0fc257",
   "metadata": {},
   "source": [
    "<center>\n",
    "    <img src=\"https://cf-courses-data.s3.us.cloud-object-storage.appdomain.cloud/IBMDeveloperSkillsNetwork-DS0105EN-SkillsNetwork/labs/Module2/images/SN_web_lightmode.png\" width=\"300\" alt=\"cognitiveclass.ai logo\">\n",
    "</center>\n"
   ]
  },
  {
   "cell_type": "markdown",
   "id": "27d23662-09d1-424b-860f-74bf4ac24652",
   "metadata": {},
   "source": [
    "#### Add your code below following the instructions given in the course\n"
   ]
  },
  {
   "cell_type": "markdown",
   "id": "c549a84d-3727-4b5c-b118-156d38e3047a",
   "metadata": {},
   "source": [
    "# Data Science Tools and Ecosystem"
   ]
  },
  {
   "cell_type": "markdown",
   "id": "112d0111-5432-4d20-8a4e-fbcef8986139",
   "metadata": {},
   "source": [
    "In diesem Notebook werden die Werkzeuge und Ökosysteme der Datenwissenschaft zusammengefasst."
   ]
  },
  {
   "cell_type": "markdown",
   "id": "5f503256-e4db-41d4-9f48-d0f592ad7a3b",
   "metadata": {},
   "source": [
    "**Ziele:**\n",
    "- Beliebte Sprachen für Datenwissenschaft auflisten\n",
    "- Einige der häufig verwendeten Bibliotheken für Datenwissenschaft auflisten\n",
    "- Einige der häufig verwendeten Datenwissenschaftswerkzeuge für Datenwissenschaft auflisten"
   ]
  },
  {
   "cell_type": "markdown",
   "id": "3f4dfa84-b2f6-4f76-9a80-2007cd410e49",
   "metadata": {},
   "source": [
    "Einige der beliebten Sprachen, die Datenwissenschaftler verwenden, sind:\n",
    "\n",
    "1. Python\n",
    "2. R\n",
    "3. SQL"
   ]
  },
  {
   "cell_type": "markdown",
   "id": "095938f4-be30-4f96-b304-33aea900287b",
   "metadata": {},
   "source": [
    "Einige der häufig verwendeten Bibliotheken, die von Datenwissenschaftlern verwendet werden, sind:\n",
    "\n",
    "1. Pandas\n",
    "2. NumPy\n",
    "3. Matplotlib"
   ]
  },
  {
   "cell_type": "markdown",
   "id": "9739a478-7e9c-4a36-9968-65342acc0096",
   "metadata": {},
   "source": [
    "|Data Science Tools|\n",
    "|---|\n",
    "|Jupyter Notebook|\n",
    "|Visual Studio Code|\n",
    "|RStudio|"
   ]
  },
  {
   "cell_type": "markdown",
   "id": "7a96f41b-f691-4a70-bfc6-ec365615717c",
   "metadata": {},
   "source": [
    "### Unten sind einige Beispiele zur Auswertung arithmetischer Ausdrücke in Python."
   ]
  },
  {
   "cell_type": "code",
   "execution_count": 9,
   "id": "f89d22a3-4bd4-4a93-bb2b-7f5e716997fa",
   "metadata": {},
   "outputs": [
    {
     "data": {
      "text/plain": [
       "17"
      ]
     },
     "execution_count": 9,
     "metadata": {},
     "output_type": "execute_result"
    }
   ],
   "source": [
    "# Dies ist ein einfacher arithmetischer Ausdruck, um Ganzzahlen zu multiplizieren und dann zu addieren\n",
    "(3*4)+5"
   ]
  },
  {
   "cell_type": "code",
   "execution_count": 10,
   "id": "17536e0c-f0a4-486a-9eea-20911b98f3aa",
   "metadata": {},
   "outputs": [
    {
     "data": {
      "text/plain": [
       "3.3333333333333335"
      ]
     },
     "execution_count": 10,
     "metadata": {},
     "output_type": "execute_result"
    }
   ],
   "source": [
    "# Dies wandelt 200 Minuten in Stunden um, indem durch 60 geteilt wird\n",
    "200/60"
   ]
  },
  {
   "cell_type": "markdown",
   "id": "cabf5376-0dbd-4eee-98fc-1dc9a2a7b2d1",
   "metadata": {},
   "source": [
    "## Autor\n",
    "Matthias Herrmann"
   ]
  },
  {
   "cell_type": "code",
   "execution_count": null,
   "id": "8450b879-5542-48f4-8308-ee591d90da2f",
   "metadata": {},
   "outputs": [],
   "source": []
  }
 ],
 "metadata": {
  "kernelspec": {
   "display_name": "Python 3 (ipykernel)",
   "language": "python",
   "name": "python3"
  },
  "language_info": {
   "codemirror_mode": {
    "name": "ipython",
    "version": 3
   },
   "file_extension": ".py",
   "mimetype": "text/x-python",
   "name": "python",
   "nbconvert_exporter": "python",
   "pygments_lexer": "ipython3",
   "version": "3.11.9"
  }
 },
 "nbformat": 4,
 "nbformat_minor": 5
}
